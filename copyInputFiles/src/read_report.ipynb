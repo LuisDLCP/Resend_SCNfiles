{
 "cells": [
  {
   "cell_type": "code",
   "execution_count": 1,
   "metadata": {},
   "outputs": [],
   "source": [
    "from shutil import copy2\n",
    "from glob import glob"
   ]
  },
  {
   "cell_type": "code",
   "execution_count": 2,
   "metadata": {},
   "outputs": [],
   "source": [
    "root_path = '/home/luis/Desktop/Proyects_Files/LISN/GPSs/Tareas/Resend_SCNfiles/'\n",
    "report_path = root_path + 'createReports/output_files/'\n",
    "input_path = root_path + 'copyInputFiles/input_files/'\n",
    "output_path = root_path + 'copyInputFiles/output_files/'"
   ]
  },
  {
   "cell_type": "code",
   "execution_count": 7,
   "metadata": {},
   "outputs": [],
   "source": [
    "f = open(report_path + \"reporte_lhyo.txt\", 'r')"
   ]
  },
  {
   "cell_type": "code",
   "execution_count": 6,
   "metadata": {},
   "outputs": [
    {
     "name": "stdout",
     "output_type": "stream",
     "text": [
      "['GPS', 'files', 'report', '-', 'LISN', 'network']\n",
      "['-------------------------------']\n",
      "['Station:', 'lhyo']\n",
      "['File_type:', 's4']\n",
      "['-------------------------------']\n",
      "['']\n",
      "['2020']\n",
      "['02']\n",
      "['0', '0', '0', '0', '0', '0', '1', '1', '1', '1', '1', '1', '1', '1', '1', '0', '0', '0', '0', '0', '0', '0', '0', '0', '0', '0', '0', '0', '0']\n",
      "['']\n",
      "['2021']\n",
      "['02']\n",
      "['0', '0', '0', '0', '1', '1', '1', '1', '1', '1', '1', '1', '1', '1', '1', '1', '0', '0', '0', '0', '0', '0', '0', '0', '0', '0', '0', '0']\n",
      "['08']\n",
      "['0', '0', '0', '0', '0', '0', '0', '0', '0', '0', '0', '0', '0', '0', '0', '0', '1', '1', '1', '1', '1', '1', '1', '1', '1', '1', '1', '1', '1', '1', '1']\n",
      "['12']\n",
      "['0', '0', '0', '0', '0', '0', '0', '1', '1', '1', '1', '1', '1', '1', '1', '1', '1', '1', '1', '1', '1', '1', '1', '1', '1', '1', '0', '0', '0', '0', '0']\n",
      "['']\n",
      "['***']\n",
      "['File', 'generated', 'on:', '2021-09-09', '11:34:21', 'UTC-5']\n"
     ]
    }
   ],
   "source": [
    "# This piece of code only shows the file content! It's not part of the program \n",
    "fLines = f.readlines()\n",
    "i = 0\n",
    "for line in fLines:\n",
    "    line1 = line.strip(\"\\n\").split(\" \")\n",
    "    # Read header\n",
    "    # -> Read file type \n",
    "    print(line1)"
   ]
  },
  {
   "cell_type": "code",
   "execution_count": 8,
   "metadata": {},
   "outputs": [
    {
     "name": "stdout",
     "output_type": "stream",
     "text": [
      "Files 200202_*.scn.gz were copied succesfully!\n",
      "Files 200223_*.scn.gz were copied succesfully!\n",
      "Files 210810_*.scn.gz were copied succesfully!\n",
      "Files 211228_*.scn.gz were copied succesfully!\n",
      "The end!\n"
     ]
    }
   ],
   "source": [
    "fLines = f.readlines()\n",
    "i = 0\n",
    "state = 0 # indicate whether data migth begin \n",
    "for line in fLines:\n",
    "    line_i = line.strip(\"\\n\").split(\" \")\n",
    "    if line_i[0] != \"***\":\n",
    "        # Read data within body \n",
    "        if state>0:\n",
    "            if state==1: # year\n",
    "                year = line_i[0]\n",
    "                state=2\n",
    "            elif state==2: # month\n",
    "                if line_i[0]!='':\n",
    "                    month = line_i[0]\n",
    "                    state=3\n",
    "                else:\n",
    "                    state=1\n",
    "            elif state==3: # days\n",
    "                for day in range(len(line_i)):\n",
    "                    #print(f\"{year}/{month}/{day+1} -> {line_i[day]}\")\n",
    "                    # Copy files \n",
    "                    if line_i[day]=='0':\n",
    "                        # create input path\n",
    "                        scnfile_prefix = year[-2:] + month + str(day).zfill(2) # e.g. '210810'\n",
    "                        date_path = year + '/' + get_month_name(month) + '/' + scnfile_prefix # e.g. '2021/08-Aug/210810'\n",
    "                        files_scn = glob(input_path + date_path + \"*scn.gz\")\n",
    "                        if len(files_scn)>0:\n",
    "                            for file in files_scn:\n",
    "                                copy2(file, output_path)\n",
    "                            print(\"Files \" + scnfile_prefix + \"_*.scn.gz were copied succesfully!\")\n",
    "                state=2\n",
    "        else: # state=0\n",
    "            # Read header\n",
    "            if line_i[0]==\"File_type\":\n",
    "                file_type = line_i[1]\n",
    "            elif line_i[0]==\"Station\":\n",
    "                station = line_i[1]\n",
    "            # Read body\n",
    "            elif line_i[0]=='':\n",
    "                state = 1\n",
    "        #print(line_i)\n",
    "    else:\n",
    "        print(\"The end!\")\n",
    "        break \n"
   ]
  },
  {
   "cell_type": "code",
   "execution_count": 5,
   "metadata": {},
   "outputs": [],
   "source": [
    "def get_month_name(month): # arg:str\n",
    "    if month == '01': return '01-Jan'\n",
    "    elif month == '02': return '02-Feb'\n",
    "    elif month == '03': return '03-Mar'\n",
    "    elif month == '04': return '04-Apr'\n",
    "    elif month == '05': return '05-May'\n",
    "    elif month == '06': return '06-Jun'\n",
    "    elif month == '07': return '07-Jul'\n",
    "    elif month == '08': return '08-Aug'\n",
    "    elif month == '09': return '09-Sep'\n",
    "    elif month == '10': return '10-Oct'\n",
    "    elif month == '11': return '11-Nov'\n",
    "    elif month == '12': return '12-Dec'\n",
    "    else: return ''    "
   ]
  },
  {
   "cell_type": "code",
   "execution_count": null,
   "metadata": {},
   "outputs": [],
   "source": []
  },
  {
   "cell_type": "code",
   "execution_count": null,
   "metadata": {},
   "outputs": [],
   "source": []
  },
  {
   "cell_type": "code",
   "execution_count": null,
   "metadata": {},
   "outputs": [],
   "source": []
  },
  {
   "cell_type": "code",
   "execution_count": null,
   "metadata": {},
   "outputs": [],
   "source": []
  },
  {
   "cell_type": "code",
   "execution_count": null,
   "metadata": {},
   "outputs": [],
   "source": []
  },
  {
   "cell_type": "code",
   "execution_count": null,
   "metadata": {},
   "outputs": [],
   "source": []
  },
  {
   "cell_type": "code",
   "execution_count": null,
   "metadata": {},
   "outputs": [],
   "source": []
  }
 ],
 "metadata": {
  "kernelspec": {
   "display_name": "Python 3",
   "language": "python",
   "name": "python3"
  },
  "language_info": {
   "codemirror_mode": {
    "name": "ipython",
    "version": 3
   },
   "file_extension": ".py",
   "mimetype": "text/x-python",
   "name": "python",
   "nbconvert_exporter": "python",
   "pygments_lexer": "ipython3",
   "version": "3.7.7"
  }
 },
 "nbformat": 4,
 "nbformat_minor": 2
}
