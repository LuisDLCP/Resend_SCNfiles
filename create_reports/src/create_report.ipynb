{
 "cells": [
  {
   "cell_type": "code",
   "execution_count": 3,
   "metadata": {},
   "outputs": [],
   "source": [
    "import glob "
   ]
  },
  {
   "cell_type": "code",
   "execution_count": 2,
   "metadata": {},
   "outputs": [],
   "source": [
    "input_files_path = \"/home/luis/Desktop/Proyects_Files/LISN/GPSs/Tareas/Resend_SCNfiles/create_reports/input_files/lcuz/2021/08/scint/\""
   ]
  },
  {
   "cell_type": "code",
   "execution_count": 6,
   "metadata": {},
   "outputs": [],
   "source": [
    "station = 'lcuz'\n",
    "yyyy = '2021'\n",
    "mm = '08'\n",
    "data_type = 's4'"
   ]
  },
  {
   "cell_type": "code",
   "execution_count": 5,
   "metadata": {},
   "outputs": [
    {
     "data": {
      "text/plain": [
       "['/home/luis/Desktop/Proyects_Files/LISN/GPSs/Tareas/Resend_SCNfiles/create_reports/input_files/lcuz/2021/08/scint/lcuz_210817.s4.gz',\n",
       " '/home/luis/Desktop/Proyects_Files/LISN/GPSs/Tareas/Resend_SCNfiles/create_reports/input_files/lcuz/2021/08/scint/lcuz_210818.s4.gz',\n",
       " '/home/luis/Desktop/Proyects_Files/LISN/GPSs/Tareas/Resend_SCNfiles/create_reports/input_files/lcuz/2021/08/scint/lcuz_210819.s4.gz',\n",
       " '/home/luis/Desktop/Proyects_Files/LISN/GPSs/Tareas/Resend_SCNfiles/create_reports/input_files/lcuz/2021/08/scint/lcuz_210820.s4.gz',\n",
       " '/home/luis/Desktop/Proyects_Files/LISN/GPSs/Tareas/Resend_SCNfiles/create_reports/input_files/lcuz/2021/08/scint/lcuz_210821.s4.gz',\n",
       " '/home/luis/Desktop/Proyects_Files/LISN/GPSs/Tareas/Resend_SCNfiles/create_reports/input_files/lcuz/2021/08/scint/lcuz_210822.s4.gz',\n",
       " '/home/luis/Desktop/Proyects_Files/LISN/GPSs/Tareas/Resend_SCNfiles/create_reports/input_files/lcuz/2021/08/scint/lcuz_210823.s4.gz',\n",
       " '/home/luis/Desktop/Proyects_Files/LISN/GPSs/Tareas/Resend_SCNfiles/create_reports/input_files/lcuz/2021/08/scint/lcuz_210824.s4.gz',\n",
       " '/home/luis/Desktop/Proyects_Files/LISN/GPSs/Tareas/Resend_SCNfiles/create_reports/input_files/lcuz/2021/08/scint/lcuz_210825.s4.gz',\n",
       " '/home/luis/Desktop/Proyects_Files/LISN/GPSs/Tareas/Resend_SCNfiles/create_reports/input_files/lcuz/2021/08/scint/lcuz_210826.s4.gz',\n",
       " '/home/luis/Desktop/Proyects_Files/LISN/GPSs/Tareas/Resend_SCNfiles/create_reports/input_files/lcuz/2021/08/scint/lcuz_210827.s4.gz',\n",
       " '/home/luis/Desktop/Proyects_Files/LISN/GPSs/Tareas/Resend_SCNfiles/create_reports/input_files/lcuz/2021/08/scint/lcuz_210828.s4.gz',\n",
       " '/home/luis/Desktop/Proyects_Files/LISN/GPSs/Tareas/Resend_SCNfiles/create_reports/input_files/lcuz/2021/08/scint/lcuz_210829.s4.gz',\n",
       " '/home/luis/Desktop/Proyects_Files/LISN/GPSs/Tareas/Resend_SCNfiles/create_reports/input_files/lcuz/2021/08/scint/lcuz_210830.s4.gz',\n",
       " '/home/luis/Desktop/Proyects_Files/LISN/GPSs/Tareas/Resend_SCNfiles/create_reports/input_files/lcuz/2021/08/scint/lcuz_210831.s4.gz']"
      ]
     },
     "execution_count": 5,
     "metadata": {},
     "output_type": "execute_result"
    }
   ],
   "source": [
    "list_files = glob.glob(input_files_path + \"*s4.gz\")\n",
    "list_files.sort()\n",
    "list_files"
   ]
  },
  {
   "cell_type": "code",
   "execution_count": 28,
   "metadata": {},
   "outputs": [
    {
     "data": {
      "text/plain": [
       "3"
      ]
     },
     "execution_count": 28,
     "metadata": {},
     "output_type": "execute_result"
    }
   ],
   "source": [
    "f = open(\"reporte.txt\", 'w')\n",
    "f.write(station + \"\\n\")\n",
    "f.write(yyyy + \"\\n\")\n",
    "f.write(data_type + \"\\n\")\n",
    "f.write(mm + \"\\n\")\n",
    "#f.close()"
   ]
  },
  {
   "cell_type": "code",
   "execution_count": 29,
   "metadata": {},
   "outputs": [],
   "source": [
    "status_files = []\n",
    "for day in range(31):\n",
    "    day = str(day+1).zfill(2)\n",
    "    fecha_comp = input_files_path + station + \"_\" + yyyy[-2:] + mm + day + \".s4.gz\"\n",
    "    #print(fecha_comp)\n",
    "    if fecha_comp in list_files:\n",
    "        status_files.append(str(1))\n",
    "    else:\n",
    "        status_files.append(str(0))"
   ]
  },
  {
   "cell_type": "code",
   "execution_count": 30,
   "metadata": {},
   "outputs": [
    {
     "name": "stdout",
     "output_type": "stream",
     "text": [
      "['0', '0', '0', '0', '0', '0', '0', '0', '0', '0', '0', '0', '0', '0', '0', '0', '1', '1', '1', '1', '1', '1', '1', '1', '1', '1', '1', '1', '1', '1', '1']\n"
     ]
    }
   ],
   "source": [
    "print(status_files)"
   ]
  },
  {
   "cell_type": "code",
   "execution_count": 31,
   "metadata": {},
   "outputs": [
    {
     "data": {
      "text/plain": [
       "31"
      ]
     },
     "execution_count": 31,
     "metadata": {},
     "output_type": "execute_result"
    }
   ],
   "source": [
    "len(status_files)"
   ]
  },
  {
   "cell_type": "code",
   "execution_count": 32,
   "metadata": {},
   "outputs": [
    {
     "data": {
      "text/plain": [
       "'0,0,0,0,0,0,0,0,0,0,0,0,0,0,0,0,1,1,1,1,1,1,1,1,1,1,1,1,1,1,1'"
      ]
     },
     "execution_count": 32,
     "metadata": {},
     "output_type": "execute_result"
    }
   ],
   "source": [
    "status_files2 = \",\".join(status_files)\n",
    "status_files2"
   ]
  },
  {
   "cell_type": "code",
   "execution_count": 33,
   "metadata": {},
   "outputs": [
    {
     "data": {
      "text/plain": [
       "62"
      ]
     },
     "execution_count": 33,
     "metadata": {},
     "output_type": "execute_result"
    }
   ],
   "source": [
    "f.write(status_files2 + \"\\n\")"
   ]
  },
  {
   "cell_type": "code",
   "execution_count": 34,
   "metadata": {},
   "outputs": [],
   "source": [
    "f.close()"
   ]
  },
  {
   "cell_type": "code",
   "execution_count": null,
   "metadata": {},
   "outputs": [],
   "source": []
  },
  {
   "cell_type": "code",
   "execution_count": null,
   "metadata": {},
   "outputs": [],
   "source": []
  },
  {
   "cell_type": "code",
   "execution_count": null,
   "metadata": {},
   "outputs": [],
   "source": []
  },
  {
   "cell_type": "code",
   "execution_count": null,
   "metadata": {},
   "outputs": [],
   "source": []
  },
  {
   "cell_type": "code",
   "execution_count": null,
   "metadata": {},
   "outputs": [],
   "source": []
  },
  {
   "cell_type": "code",
   "execution_count": null,
   "metadata": {},
   "outputs": [],
   "source": []
  },
  {
   "cell_type": "code",
   "execution_count": null,
   "metadata": {},
   "outputs": [],
   "source": []
  },
  {
   "cell_type": "code",
   "execution_count": null,
   "metadata": {},
   "outputs": [],
   "source": []
  }
 ],
 "metadata": {
  "kernelspec": {
   "display_name": "Python 3",
   "language": "python",
   "name": "python3"
  },
  "language_info": {
   "codemirror_mode": {
    "name": "ipython",
    "version": 3
   },
   "file_extension": ".py",
   "mimetype": "text/x-python",
   "name": "python",
   "nbconvert_exporter": "python",
   "pygments_lexer": "ipython3",
   "version": "3.7.7"
  }
 },
 "nbformat": 4,
 "nbformat_minor": 2
}
