{
 "cells": [
  {
   "cell_type": "code",
   "execution_count": 131,
   "metadata": {},
   "outputs": [],
   "source": [
    "from glob import glob \n",
    "from datetime import datetime "
   ]
  },
  {
   "cell_type": "code",
   "execution_count": 132,
   "metadata": {},
   "outputs": [],
   "source": [
    "#input_files_path = \"/home/luis/Desktop/Proyects_Files/LISN/GPSs/Tareas/Resend_SCNfiles/create_reports/input_files/lcuz/2021/08/scint/\"\n",
    "input_files_path = \"/home/luis/Desktop/Proyects_Files/LISN/GPSs/Tareas/Resend_SCNfiles/create_reports/input_files/\""
   ]
  },
  {
   "cell_type": "code",
   "execution_count": 133,
   "metadata": {},
   "outputs": [],
   "source": [
    "#station = 'lcuz'\n",
    "#year = '2021'\n",
    "#mm = '08'\n",
    "data_type = 's4'"
   ]
  },
  {
   "cell_type": "code",
   "execution_count": 134,
   "metadata": {},
   "outputs": [],
   "source": [
    "def max_days(month, year): # month & year: strings \n",
    "    if month == '01':\n",
    "        return 31\n",
    "    elif month == '02': # Leap year \n",
    "        year = int(year)\n",
    "        if year%4==0:\n",
    "            if year%100==0:\n",
    "                if year%400==0:\n",
    "                    return 29\n",
    "                else:\n",
    "                    return 28\n",
    "            else:\n",
    "                return 29\n",
    "        else:\n",
    "            return 28\n",
    "    elif month == '03':\n",
    "        return 31\n",
    "    elif month == '04':\n",
    "        return 30\n",
    "    elif month == '05':\n",
    "        return 31\n",
    "    elif month == '06':\n",
    "        return 30\n",
    "    elif month == '07':\n",
    "        return 31\n",
    "    elif month == '08':\n",
    "        return 31\n",
    "    elif month == '09':\n",
    "        return 30\n",
    "    elif month == '10':\n",
    "        return 31\n",
    "    elif month == '11':\n",
    "        return 30\n",
    "    elif month == '12':\n",
    "        return 31"
   ]
  },
  {
   "cell_type": "code",
   "execution_count": 135,
   "metadata": {},
   "outputs": [],
   "source": [
    "def filter_stations(stations_path): # arg: list\n",
    "    new_stations_list = []\n",
    "    for station in stations_path:\n",
    "        station_name = station[len(input_files_path):-1] # e.g. 'lhyo'\n",
    "        if station_name[0]=='l' and len(station_name)==4:\n",
    "            new_stations_list.append(station)\n",
    "    return new_stations_list"
   ]
  },
  {
   "cell_type": "code",
   "execution_count": 136,
   "metadata": {},
   "outputs": [],
   "source": [
    "def filter_years(years_path): # arg: list\n",
    "    new_years_list = []\n",
    "    for year in years_path:\n",
    "        year_name = year.strip('/').split('/')[-1] # e.g. '2021'\n",
    "        if year_name.isnumeric() and len(year_name)==4:\n",
    "            new_years_list.append(year)\n",
    "    return new_years_list"
   ]
  },
  {
   "cell_type": "code",
   "execution_count": 137,
   "metadata": {},
   "outputs": [],
   "source": [
    "def filter_months(months_path): # arg: list\n",
    "    new_months_list = []\n",
    "    for month in months_path:\n",
    "        month_name = month.strip('/').split('/')[-1] # e.g. '10'\n",
    "        if month_name.isnumeric():\n",
    "            if 0<int(month_name)<13:\n",
    "                new_months_list.append(month)\n",
    "    return new_months_list"
   ]
  },
  {
   "cell_type": "code",
   "execution_count": 138,
   "metadata": {},
   "outputs": [
    {
     "data": {
      "text/plain": [
       "['/home/luis/Desktop/Proyects_Files/LISN/GPSs/Tareas/Resend_SCNfiles/create_reports/input_files/lcuz/',\n",
       " '/home/luis/Desktop/Proyects_Files/LISN/GPSs/Tareas/Resend_SCNfiles/create_reports/input_files/lhyo/']"
      ]
     },
     "execution_count": 138,
     "metadata": {},
     "output_type": "execute_result"
    }
   ],
   "source": [
    "# Create the stations list \n",
    "#new_path = input_files_path + station + \"/\"\n",
    "list_stations = glob(input_files_path+'*/') \n",
    "list_stations = filter_stations(list_stations)\n",
    "list_stations.sort()\n",
    "list_stations"
   ]
  },
  {
   "cell_type": "code",
   "execution_count": 139,
   "metadata": {},
   "outputs": [
    {
     "name": "stdout",
     "output_type": "stream",
     "text": [
      "ready\n",
      "ready\n"
     ]
    }
   ],
   "source": [
    "for station_path in list_stations:\n",
    "    station_name = station_path[-5:-1] # e.g. 'lhyo'\n",
    "    f = open(\"reporte_\" + station_name + \".txt\", 'w')\n",
    "    f.write(\"GPS files report - LISN network \\n\")\n",
    "    f.write(\"------------------------------- \\n\")\n",
    "    f.write(\"Station: \" + station_name + \"\\n\")\n",
    "    f.write(\"File type: \" + data_type + \"\\n\")\n",
    "    f.write(\"------------------------------- \\n\")\n",
    "    #\n",
    "    # Create the year list \n",
    "    #new_path = input_files_path + station_name + \"/\"\n",
    "    list_years = glob(station_path + '*/') \n",
    "    list_years = filter_years(list_years)\n",
    "    list_years.sort()\n",
    "    for year_path in list_years:\n",
    "        year_name = year_path[-5:-1] # e.g. '2021'\n",
    "        # write on status file\n",
    "        f.write(\"\\n\")\n",
    "        f.write(year_name + \"\\n\")\n",
    "        #f.write(data_type + \"\\n\")\n",
    "\n",
    "        # Create the month list \n",
    "        list_months = glob(year_path+'*/') \n",
    "        list_months = filter_months(list_months)\n",
    "        list_months.sort()\n",
    "        #print(list_months)\n",
    "        for month_path in list_months:\n",
    "            month_name = month_path[-3:-1] # e.g. '08'\n",
    "            list_s4 = glob(month_path + \"scint/\" + \"*s4.gz\")\n",
    "            list_s4.sort()\n",
    "            #print(month_name)\n",
    "            #print()\n",
    "            # Create the file's body \n",
    "            status_files = []\n",
    "            mes = range(max_days(month_name, year_name))\n",
    "            for day in mes:\n",
    "                day = str(day+1).zfill(2) # e.g. '07'\n",
    "                fecha_comp = month_path + \"scint/\" + station_name + \"_\" + year_name[-2:] + month_name + day + \".s4.gz\" # e.g. 'lcuz_210205.s4.gz'\n",
    "                #print(fecha_comp)\n",
    "                if fecha_comp in list_s4:\n",
    "                    status_files.append(str(1))\n",
    "                else:\n",
    "                    status_files.append(str(0))\n",
    "\n",
    "            status_files2 = \",\".join(status_files) # create a single string \n",
    "            # write on status file\n",
    "            f.write(month_name + \"\\n\")\n",
    "            f.write(status_files2 + \"\\n\")\n",
    "    \n",
    "    f.write(\"\\n\") \n",
    "    f.write(\"-------------------------------------------- \\n\")\n",
    "    f.write(\"File generated on: \" + datetime.now().strftime('%Y-%m-%d %H:%M:%S') + \" UTC-5\")    \n",
    "    f.close()\n",
    "    print(\"ready\")    "
   ]
  },
  {
   "cell_type": "code",
   "execution_count": null,
   "metadata": {},
   "outputs": [],
   "source": []
  },
  {
   "cell_type": "code",
   "execution_count": null,
   "metadata": {},
   "outputs": [],
   "source": []
  },
  {
   "cell_type": "code",
   "execution_count": null,
   "metadata": {},
   "outputs": [],
   "source": []
  },
  {
   "cell_type": "code",
   "execution_count": null,
   "metadata": {},
   "outputs": [],
   "source": []
  },
  {
   "cell_type": "code",
   "execution_count": null,
   "metadata": {},
   "outputs": [],
   "source": []
  },
  {
   "cell_type": "code",
   "execution_count": null,
   "metadata": {},
   "outputs": [],
   "source": []
  },
  {
   "cell_type": "code",
   "execution_count": null,
   "metadata": {},
   "outputs": [],
   "source": []
  }
 ],
 "metadata": {
  "kernelspec": {
   "display_name": "Python 3",
   "language": "python",
   "name": "python3"
  },
  "language_info": {
   "codemirror_mode": {
    "name": "ipython",
    "version": 3
   },
   "file_extension": ".py",
   "mimetype": "text/x-python",
   "name": "python",
   "nbconvert_exporter": "python",
   "pygments_lexer": "ipython3",
   "version": "3.7.7"
  }
 },
 "nbformat": 4,
 "nbformat_minor": 2
}
