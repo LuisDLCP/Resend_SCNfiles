{
 "cells": [
  {
   "cell_type": "markdown",
   "metadata": {},
   "source": [
    "## Find unique elements"
   ]
  },
  {
   "cell_type": "code",
   "execution_count": 1,
   "metadata": {},
   "outputs": [
    {
     "data": {
      "text/plain": [
       "['210826_120000.scn',\n",
       " '210826_130000.scn',\n",
       " '210826_150000.scn',\n",
       " '210827_120000.scn',\n",
       " '210827_220000.scn']"
      ]
     },
     "execution_count": 1,
     "metadata": {},
     "output_type": "execute_result"
    }
   ],
   "source": [
    "archivos=['210826_120000.scn', '210826_130000.scn','210826_150000.scn','210827_120000.scn','210827_220000.scn']\n",
    "archivos"
   ]
  },
  {
   "cell_type": "code",
   "execution_count": 2,
   "metadata": {},
   "outputs": [
    {
     "name": "stdout",
     "output_type": "stream",
     "text": [
      "210826\n",
      "210826\n",
      "210826\n",
      "210827\n",
      "210827\n"
     ]
    }
   ],
   "source": [
    "for archivo in archivos:\n",
    "    print(archivo.split('_')[0])"
   ]
  },
  {
   "cell_type": "code",
   "execution_count": 3,
   "metadata": {},
   "outputs": [
    {
     "data": {
      "text/plain": [
       "['210826', '210826', '210826', '210827', '210827']"
      ]
     },
     "execution_count": 3,
     "metadata": {},
     "output_type": "execute_result"
    }
   ],
   "source": [
    "new_files = [archivo[:6] for archivo in archivos]\n",
    "new_files"
   ]
  },
  {
   "cell_type": "code",
   "execution_count": 6,
   "metadata": {},
   "outputs": [
    {
     "data": {
      "text/plain": [
       "['210826', '210827']"
      ]
     },
     "execution_count": 6,
     "metadata": {},
     "output_type": "execute_result"
    }
   ],
   "source": [
    "new_files2 = list(set(new_files))\n",
    "new_files2"
   ]
  },
  {
   "cell_type": "markdown",
   "metadata": {},
   "source": [
    "## Delete empty files"
   ]
  },
  {
   "cell_type": "code",
   "execution_count": 5,
   "metadata": {},
   "outputs": [],
   "source": [
    "import os"
   ]
  },
  {
   "cell_type": "code",
   "execution_count": 2,
   "metadata": {},
   "outputs": [],
   "source": [
    "input_directory = \"/home/luis/Desktop/Proyects_Files/LISN/GPSs/Tareas/Resend_SCNfiles/input_files/data_set/\""
   ]
  },
  {
   "cell_type": "code",
   "execution_count": 11,
   "metadata": {},
   "outputs": [
    {
     "data": {
      "text/plain": [
       "['/home/luis/Desktop/Proyects_Files/LISN/GPSs/Tareas/Resend_SCNfiles/input_files/data_set/210927_110000.scn',\n",
       " '/home/luis/Desktop/Proyects_Files/LISN/GPSs/Tareas/Resend_SCNfiles/input_files/data_set/210927_120000.scn',\n",
       " '/home/luis/Desktop/Proyects_Files/LISN/GPSs/Tareas/Resend_SCNfiles/input_files/data_set/210927_130000.scn',\n",
       " '/home/luis/Desktop/Proyects_Files/LISN/GPSs/Tareas/Resend_SCNfiles/input_files/data_set/210927_140000.scn',\n",
       " '/home/luis/Desktop/Proyects_Files/LISN/GPSs/Tareas/Resend_SCNfiles/input_files/data_set/210927_150000.scn',\n",
       " '/home/luis/Desktop/Proyects_Files/LISN/GPSs/Tareas/Resend_SCNfiles/input_files/data_set/210927_160000.scn']"
      ]
     },
     "execution_count": 11,
     "metadata": {},
     "output_type": "execute_result"
    }
   ],
   "source": [
    "input_files = [input_directory+f'210927_1{i+1}0000.scn' for i in range(6)]\n",
    "input_files"
   ]
  },
  {
   "cell_type": "code",
   "execution_count": 12,
   "metadata": {},
   "outputs": [
    {
     "data": {
      "text/plain": [
       "[]"
      ]
     },
     "execution_count": 12,
     "metadata": {},
     "output_type": "execute_result"
    }
   ],
   "source": [
    "[file for file in input_files if os.path.getsize(file) != 0]"
   ]
  },
  {
   "cell_type": "code",
   "execution_count": null,
   "metadata": {},
   "outputs": [],
   "source": []
  },
  {
   "cell_type": "code",
   "execution_count": 8,
   "metadata": {},
   "outputs": [
    {
     "name": "stdout",
     "output_type": "stream",
     "text": [
      "/home/luis/Desktop/Proyects_Files/LISN/GPSs/Tareas/Resend_SCNfiles/input_files/data_set/210927_110000.scn will be deleted!\n",
      "/home/luis/Desktop/Proyects_Files/LISN/GPSs/Tareas/Resend_SCNfiles/input_files/data_set/210927_120000.scn will be deleted!\n",
      "/home/luis/Desktop/Proyects_Files/LISN/GPSs/Tareas/Resend_SCNfiles/input_files/data_set/210927_130000.scn will be deleted!\n",
      "/home/luis/Desktop/Proyects_Files/LISN/GPSs/Tareas/Resend_SCNfiles/input_files/data_set/210927_140000.scn will be deleted!\n",
      "/home/luis/Desktop/Proyects_Files/LISN/GPSs/Tareas/Resend_SCNfiles/input_files/data_set/210927_150000.scn will be deleted!\n",
      "/home/luis/Desktop/Proyects_Files/LISN/GPSs/Tareas/Resend_SCNfiles/input_files/data_set/210927_160000.scn will be deleted!\n"
     ]
    }
   ],
   "source": [
    "for file in input_files:\n",
    "    if os.path.getsize(file) == 0:\n",
    "        print(f\"{file} will be deleted!\")\n",
    "        #os.remove(file)"
   ]
  },
  {
   "cell_type": "code",
   "execution_count": null,
   "metadata": {},
   "outputs": [],
   "source": []
  },
  {
   "cell_type": "code",
   "execution_count": null,
   "metadata": {},
   "outputs": [],
   "source": []
  },
  {
   "cell_type": "code",
   "execution_count": null,
   "metadata": {},
   "outputs": [],
   "source": []
  },
  {
   "cell_type": "code",
   "execution_count": null,
   "metadata": {},
   "outputs": [],
   "source": []
  },
  {
   "cell_type": "code",
   "execution_count": null,
   "metadata": {},
   "outputs": [],
   "source": []
  },
  {
   "cell_type": "code",
   "execution_count": null,
   "metadata": {},
   "outputs": [],
   "source": []
  },
  {
   "cell_type": "code",
   "execution_count": null,
   "metadata": {},
   "outputs": [],
   "source": []
  },
  {
   "cell_type": "code",
   "execution_count": null,
   "metadata": {},
   "outputs": [],
   "source": []
  },
  {
   "cell_type": "code",
   "execution_count": null,
   "metadata": {},
   "outputs": [],
   "source": []
  },
  {
   "cell_type": "code",
   "execution_count": null,
   "metadata": {},
   "outputs": [],
   "source": []
  },
  {
   "cell_type": "code",
   "execution_count": null,
   "metadata": {},
   "outputs": [],
   "source": []
  },
  {
   "cell_type": "code",
   "execution_count": null,
   "metadata": {},
   "outputs": [],
   "source": []
  },
  {
   "cell_type": "code",
   "execution_count": null,
   "metadata": {},
   "outputs": [],
   "source": []
  },
  {
   "cell_type": "code",
   "execution_count": null,
   "metadata": {},
   "outputs": [],
   "source": []
  },
  {
   "cell_type": "code",
   "execution_count": null,
   "metadata": {},
   "outputs": [],
   "source": []
  },
  {
   "cell_type": "code",
   "execution_count": null,
   "metadata": {},
   "outputs": [],
   "source": []
  }
 ],
 "metadata": {
  "kernelspec": {
   "display_name": "Python 3",
   "language": "python",
   "name": "python3"
  },
  "language_info": {
   "codemirror_mode": {
    "name": "ipython",
    "version": 3
   },
   "file_extension": ".py",
   "mimetype": "text/x-python",
   "name": "python",
   "nbconvert_exporter": "python",
   "pygments_lexer": "ipython3",
   "version": "3.7.7"
  }
 },
 "nbformat": 4,
 "nbformat_minor": 2
}
